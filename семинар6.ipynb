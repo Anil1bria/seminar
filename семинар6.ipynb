{
 "cells": [
  {
   "cell_type": "code",
   "execution_count": 1,
   "id": "8ef41c91",
   "metadata": {},
   "outputs": [
    {
     "name": "stdout",
     "output_type": "stream",
     "text": [
      "['31', '24', '17'] \n",
      " ['31', '24', '17'] \n",
      " ['31', '24', '17'] \n",
      " ['31', '24', '17', '31', '24', '17', '31', '24', '17']\n"
     ]
    }
   ],
   "source": [
    "# 1\n",
    "v_1 = ['31', '24', '17']\n",
    "v_2 = v_1.copy()\n",
    "v_3 = [i for i in ['31', '24', '17']]\n",
    "v_4 = v_1 + v_2 + v_3\n",
    "print(v_1, '\\n', v_2, '\\n', v_3, '\\n', v_4)"
   ]
  },
  {
   "cell_type": "code",
   "execution_count": 3,
   "id": "6d0ea02b",
   "metadata": {},
   "outputs": [
    {
     "name": "stdout",
     "output_type": "stream",
     "text": [
      "введите строкуПривет, как дела? кто бы ты не был\n",
      "['П', 'р', 'и', 'в', 'е', 'т', ',', ' ', 'к', 'а', 'к', ' ', 'д', 'е', 'л', 'а', '?', ' ', 'к', 'т', 'о', ' ', 'б', 'ы', ' ', 'т', 'ы', ' ', 'н', 'е', ' ', 'б', 'ы', 'л']\n"
     ]
    }
   ],
   "source": [
    "#2.1\n",
    "print([i for i in input('введите строку')])"
   ]
  },
  {
   "cell_type": "code",
   "execution_count": 4,
   "id": "e68bbb18",
   "metadata": {},
   "outputs": [
    {
     "name": "stdout",
     "output_type": "stream",
     "text": [
      "введите предложениеПривет, как дела? кто бы ты не был\n",
      "['Привет', 'как', 'дела', 'кто', 'бы', 'ты', 'не', 'был']\n"
     ]
    }
   ],
   "source": [
    "#2.2\n",
    "print([i for i in input('введите предложение').replace(',', '').replace('!', '').replace('.', '').replace('?', '').split()])"
   ]
  },
  {
   "cell_type": "code",
   "execution_count": 6,
   "id": "3bc6b5bc",
   "metadata": {},
   "outputs": [
    {
     "name": "stdout",
     "output_type": "stream",
     "text": [
      "adhjfal3qhkefah89h3rhkfjalh0qhfahlfd190u\n",
      "['3', '8', '9', '3', '0', '1', '9', '0']\n"
     ]
    }
   ],
   "source": [
    "#2.3\n",
    "print([i for i in input() if i in '0987654321'])"
   ]
  },
  {
   "cell_type": "code",
   "execution_count": 7,
   "id": "fb009d94",
   "metadata": {},
   "outputs": [
    {
     "name": "stdout",
     "output_type": "stream",
     "text": [
      "['input', 'string', 'input', 'string', 'input', 'string', 'repeat', 3]\n"
     ]
    }
   ],
   "source": [
    "#3\n",
    "spisok = ['input', 'string', 'repeat', 3]\n",
    "if 'repeat' in spisok and str(spisok[-1]).isdigit():\n",
    "    spisok = spisok[:-2] + spisok[:-2] + spisok[:-2] + spisok[-2:]\n",
    "print(spisok)\n",
    "    "
   ]
  },
  {
   "cell_type": "code",
   "execution_count": 8,
   "id": "c5a95c52",
   "metadata": {},
   "outputs": [
    {
     "name": "stdout",
     "output_type": "stream",
     "text": [
      "Длины строк: 4 и 4\n",
      "первая строка идет раньше второй\n"
     ]
    }
   ],
   "source": [
    "#4\n",
    "s1 = 'sgsd'\n",
    "s2 = ';ldb'\n",
    "print(f'Длины строк: {len(s1)} и {len(s2)}')\n",
    "if s1 != s2:\n",
    "    print('первая строка идет раньше второй' if max(len(s1), len(s2)) == len(s2) else 'первая строка идет позже второй')\n",
    "else:\n",
    "    for i in range(len(s1)):\n",
    "        if ord(s1[i]) > ord(s2[i]):\n",
    "            print('первая строка идет раньше второй')\n",
    "            break\n",
    "        elif ord(s1[i]) < ord(s2[i]):\n",
    "            print('первая строка идет раньше второй')"
   ]
  },
  {
   "cell_type": "code",
   "execution_count": 9,
   "id": "3ccaae44",
   "metadata": {},
   "outputs": [
    {
     "name": "stdout",
     "output_type": "stream",
     "text": [
      "5\n",
      "5\n",
      "[1, 2, 3, 4, 5, 1, 2, 3, 4, 5, 1, 2, 3, 4, 5, 1, 2, 3, 4, 5, 1, 2, 3, 4, 5]\n"
     ]
    }
   ],
   "source": [
    "#5.1\n",
    "max_var = int(input())\n",
    "repeat = int(input())\n",
    "v = []\n",
    "for j in range(repeat):\n",
    "    for i in range(1, max_var+1):\n",
    "        v.append(i)\n",
    "print(v)"
   ]
  },
  {
   "cell_type": "code",
   "execution_count": 11,
   "id": "850b7715",
   "metadata": {},
   "outputs": [
    {
     "ename": "KeyboardInterrupt",
     "evalue": "Interrupted by user",
     "output_type": "error",
     "traceback": [
      "\u001b[1;31m---------------------------------------------------------------------------\u001b[0m",
      "\u001b[1;31mKeyboardInterrupt\u001b[0m                         Traceback (most recent call last)",
      "Cell \u001b[1;32mIn[11], line 3\u001b[0m\n\u001b[0;32m      1\u001b[0m \u001b[38;5;66;03m#5.2\u001b[39;00m\n\u001b[0;32m      2\u001b[0m max_var \u001b[38;5;241m=\u001b[39m \u001b[38;5;241m10\u001b[39m\n\u001b[1;32m----> 3\u001b[0m repeat \u001b[38;5;241m=\u001b[39m \u001b[38;5;28mint\u001b[39m(\u001b[38;5;28minput\u001b[39m())\n\u001b[0;32m      4\u001b[0m v \u001b[38;5;241m=\u001b[39m []\n\u001b[0;32m      5\u001b[0m \u001b[38;5;28;01mfor\u001b[39;00m j \u001b[38;5;129;01min\u001b[39;00m \u001b[38;5;28mrange\u001b[39m(repeat):\n",
      "File \u001b[1;32m~\\anaconda3\\Lib\\site-packages\\ipykernel\\kernelbase.py:1175\u001b[0m, in \u001b[0;36mKernel.raw_input\u001b[1;34m(self, prompt)\u001b[0m\n\u001b[0;32m   1171\u001b[0m \u001b[38;5;28;01mif\u001b[39;00m \u001b[38;5;129;01mnot\u001b[39;00m \u001b[38;5;28mself\u001b[39m\u001b[38;5;241m.\u001b[39m_allow_stdin:\n\u001b[0;32m   1172\u001b[0m     \u001b[38;5;28;01mraise\u001b[39;00m StdinNotImplementedError(\n\u001b[0;32m   1173\u001b[0m         \u001b[38;5;124m\"\u001b[39m\u001b[38;5;124mraw_input was called, but this frontend does not support input requests.\u001b[39m\u001b[38;5;124m\"\u001b[39m\n\u001b[0;32m   1174\u001b[0m     )\n\u001b[1;32m-> 1175\u001b[0m \u001b[38;5;28;01mreturn\u001b[39;00m \u001b[38;5;28mself\u001b[39m\u001b[38;5;241m.\u001b[39m_input_request(\n\u001b[0;32m   1176\u001b[0m     \u001b[38;5;28mstr\u001b[39m(prompt),\n\u001b[0;32m   1177\u001b[0m     \u001b[38;5;28mself\u001b[39m\u001b[38;5;241m.\u001b[39m_parent_ident[\u001b[38;5;124m\"\u001b[39m\u001b[38;5;124mshell\u001b[39m\u001b[38;5;124m\"\u001b[39m],\n\u001b[0;32m   1178\u001b[0m     \u001b[38;5;28mself\u001b[39m\u001b[38;5;241m.\u001b[39mget_parent(\u001b[38;5;124m\"\u001b[39m\u001b[38;5;124mshell\u001b[39m\u001b[38;5;124m\"\u001b[39m),\n\u001b[0;32m   1179\u001b[0m     password\u001b[38;5;241m=\u001b[39m\u001b[38;5;28;01mFalse\u001b[39;00m,\n\u001b[0;32m   1180\u001b[0m )\n",
      "File \u001b[1;32m~\\anaconda3\\Lib\\site-packages\\ipykernel\\kernelbase.py:1217\u001b[0m, in \u001b[0;36mKernel._input_request\u001b[1;34m(self, prompt, ident, parent, password)\u001b[0m\n\u001b[0;32m   1214\u001b[0m             \u001b[38;5;28;01mbreak\u001b[39;00m\n\u001b[0;32m   1215\u001b[0m \u001b[38;5;28;01mexcept\u001b[39;00m \u001b[38;5;167;01mKeyboardInterrupt\u001b[39;00m:\n\u001b[0;32m   1216\u001b[0m     \u001b[38;5;66;03m# re-raise KeyboardInterrupt, to truncate traceback\u001b[39;00m\n\u001b[1;32m-> 1217\u001b[0m     \u001b[38;5;28;01mraise\u001b[39;00m \u001b[38;5;167;01mKeyboardInterrupt\u001b[39;00m(\u001b[38;5;124m\"\u001b[39m\u001b[38;5;124mInterrupted by user\u001b[39m\u001b[38;5;124m\"\u001b[39m) \u001b[38;5;28;01mfrom\u001b[39;00m \u001b[38;5;28;01mNone\u001b[39;00m\n\u001b[0;32m   1218\u001b[0m \u001b[38;5;28;01mexcept\u001b[39;00m \u001b[38;5;167;01mException\u001b[39;00m:\n\u001b[0;32m   1219\u001b[0m     \u001b[38;5;28mself\u001b[39m\u001b[38;5;241m.\u001b[39mlog\u001b[38;5;241m.\u001b[39mwarning(\u001b[38;5;124m\"\u001b[39m\u001b[38;5;124mInvalid Message:\u001b[39m\u001b[38;5;124m\"\u001b[39m, exc_info\u001b[38;5;241m=\u001b[39m\u001b[38;5;28;01mTrue\u001b[39;00m)\n",
      "\u001b[1;31mKeyboardInterrupt\u001b[0m: Interrupted by user"
     ]
    }
   ],
   "source": [
    "#5.2\n",
    "max_var = 10\n",
    "repeat = int(input())\n",
    "v = []\n",
    "for j in range(repeat):\n",
    "    for i in range(1, max_var+1):\n",
    "        v.append(i)\n",
    "print(v)\n",
    "listcop = v[:]"
   ]
  },
  {
   "cell_type": "code",
   "execution_count": 12,
   "id": "e7dd5f84",
   "metadata": {},
   "outputs": [
    {
     "name": "stdout",
     "output_type": "stream",
     "text": [
      "['t', 'e', 'eet', 't', '_', '__t', 't', 'r', 'i', 'n', 'g', 'ggs', 's']\n"
     ]
    }
   ],
   "source": [
    "#6\n",
    "stroca = 'test_Stringss'\n",
    "v = []\n",
    "for i in range(len(stroca)):\n",
    "    if stroca[i] in 'Ss' and i != 0 and i != len(stroca)-1:\n",
    "        v.append(stroca[i-1]+stroca[i-1]+stroca[i+1])\n",
    "    else:\n",
    "        v.append(stroca[i])\n",
    "print(v)"
   ]
  },
  {
   "cell_type": "code",
   "execution_count": 19,
   "id": "3a4732a8",
   "metadata": {},
   "outputs": [
    {
     "name": "stdout",
     "output_type": "stream",
     "text": [
      "asd\n",
      "qwe\n",
      "123\n",
      "asd\n",
      "qwe\n",
      "123\n",
      "asd\n",
      "qwe\n",
      "123\n",
      "as\n",
      "['asd', 'qwe', 123, 'asd', 'qwe', 123, 'asd', 'qwe', 123, 'as']\n"
     ]
    }
   ],
   "source": [
    "#7\n",
    "from math import ceil\n",
    "def is_digit(s):\n",
    "    try:\n",
    "        float(s)\n",
    "        return True\n",
    "    except ValueError:\n",
    "        return False\n",
    "    \n",
    "    \n",
    "v = []\n",
    "for i in range(10):\n",
    "    answer = input()\n",
    "    if answer == 'False':\n",
    "        v.append(False)\n",
    "    elif answer == 'True':   \n",
    "        v.append(True)\n",
    "    elif is_digit(answer):\n",
    "        v.append(ceil(float(answer)))\n",
    "    else:\n",
    "        v.append(answer)\n",
    "print(v)"
   ]
  },
  {
   "cell_type": "code",
   "execution_count": 20,
   "id": "1fcb2660",
   "metadata": {},
   "outputs": [
    {
     "name": "stdout",
     "output_type": "stream",
     "text": [
      "qwe\n",
      "rty\n",
      "['qwe', 'rty', '']\n",
      "qwe rty \n"
     ]
    }
   ],
   "source": [
    "# 8\n",
    "stroca_1 = input().split()\n",
    "stroca_2 = input().split()\n",
    "v_1 = stroca_1 if len(stroca_1) < len(stroca_2) else stroca_2\n",
    "v_2 = stroca_1 if len(stroca_2) < len(stroca_1) else stroca_2\n",
    "v = []\n",
    "for i in range(len(v_1)):\n",
    "    v.append(stroca_1[i])\n",
    "    v.append(stroca_2[i])\n",
    "v.append(v_2[len(v_1)-1:] if len(v_2) > len(v_1) else '')\n",
    "print(v)\n",
    "print(' '.join(v))"
   ]
  },
  {
   "cell_type": "code",
   "execution_count": 25,
   "id": "7254f15e",
   "metadata": {},
   "outputs": [
    {
     "name": "stdout",
     "output_type": "stream",
     "text": [
      "qwe\n",
      "rty\n",
      "[('qwe', 'rty')]\n"
     ]
    },
    {
     "ename": "TypeError",
     "evalue": "sequence item 0: expected str instance, tuple found",
     "output_type": "error",
     "traceback": [
      "\u001b[1;31m---------------------------------------------------------------------------\u001b[0m",
      "\u001b[1;31mTypeError\u001b[0m                                 Traceback (most recent call last)",
      "Cell \u001b[1;32mIn[25], line 5\u001b[0m\n\u001b[0;32m      3\u001b[0m stroca_2 \u001b[38;5;241m=\u001b[39m \u001b[38;5;28minput\u001b[39m()\u001b[38;5;241m.\u001b[39msplit()\n\u001b[0;32m      4\u001b[0m \u001b[38;5;28mprint\u001b[39m(\u001b[38;5;28mlist\u001b[39m(\u001b[38;5;28mzip\u001b[39m(stroca_1, stroca_2)))\n\u001b[1;32m----> 5\u001b[0m \u001b[38;5;28mprint\u001b[39m(\u001b[38;5;124m'\u001b[39m\u001b[38;5;124m \u001b[39m\u001b[38;5;124m'\u001b[39m\u001b[38;5;241m.\u001b[39mjoin(\u001b[38;5;28mlist\u001b[39m(\u001b[38;5;28mzip\u001b[39m(stroca_1, stroca_2))))\n",
      "\u001b[1;31mTypeError\u001b[0m: sequence item 0: expected str instance, tuple found"
     ]
    }
   ],
   "source": [
    "# 9\n",
    "stroca_1 = input().split()\n",
    "stroca_2 = input().split()\n",
    "print(list(zip(stroca_1, stroca_2)))\n",
    "print(' '.join(list(zip(stroca_1, stroca_2))))"
   ]
  },
  {
   "cell_type": "code",
   "execution_count": 27,
   "id": "1f7f79fe",
   "metadata": {},
   "outputs": [
    {
     "name": "stdout",
     "output_type": "stream",
     "text": [
      "введите строкуqwe rty asd fgh jkl\n",
      "число3\n",
      "jkl qwe rty asd fgh\n"
     ]
    }
   ],
   "source": [
    "# 10\n",
    "stroca = input('введите строку').split()\n",
    "numbers = int(input('число'))\n",
    "print(' '.join(stroca[numbers+1:] + stroca[:numbers+1]))"
   ]
  },
  {
   "cell_type": "code",
   "execution_count": 28,
   "id": "cdceba7a",
   "metadata": {},
   "outputs": [
    {
     "name": "stdout",
     "output_type": "stream",
     "text": [
      "[1, 2, 3, 2, 2, 5, 2, 2, 7, 2, 2, 2, 3, 3, 2, 3, 11, 2, 2, 2, 13, 2, 3, 3, 3, 2, 2, 2, 2, 17, 2, 3, 3, 19, 2, 2, 3]\n"
     ]
    }
   ],
   "source": [
    "# 11\n",
    "def prost(a):\n",
    "    i = 2\n",
    "    k = []\n",
    "    while i * i <= a:\n",
    "        if a % i:\n",
    "            i += 1\n",
    "        else:\n",
    "            a //= i\n",
    "            k.append(i)\n",
    "    if a > 1:\n",
    "        k.append(i)\n",
    "    return k\n",
    "\n",
    "v_1 = [1]\n",
    "for i in range(1, 21):\n",
    "    if i in [2, 3, 5, 7, 11, 13, 17, 19]:\n",
    "        v_1.append(i)\n",
    "    else:\n",
    "        v_1.extend(prost(i))\n",
    "print(v_1) \n",
    "    "
   ]
  },
  {
   "cell_type": "code",
   "execution_count": 29,
   "id": "f1230f32",
   "metadata": {},
   "outputs": [
    {
     "name": "stdout",
     "output_type": "stream",
     "text": [
      "34\n"
     ]
    }
   ],
   "source": [
    "# 12\n",
    "v = [8, 34, 67, 678, 8, 98, 98, 678, 56]\n",
    "lst = [i for i in v if v.count(i) == 1]\n",
    "print(min(lst))"
   ]
  },
  {
   "cell_type": "code",
   "execution_count": 30,
   "id": "c6f75437",
   "metadata": {},
   "outputs": [
    {
     "name": "stdout",
     "output_type": "stream",
     "text": [
      "1\n"
     ]
    }
   ],
   "source": [
    "# 13\n",
    "v = [8, 34, 67, 678, 8, 98, 98, 678, 56]\n",
    "lst = [i for i in v if v.count(i) == 1]\n",
    "print(*[i for i in range(len(v)) if v[i] == min(lst)])"
   ]
  },
  {
   "cell_type": "code",
   "execution_count": 31,
   "id": "d158f2d2",
   "metadata": {},
   "outputs": [
    {
     "name": "stdout",
     "output_type": "stream",
     "text": [
      "4\n"
     ]
    }
   ],
   "source": [
    "# 14\n",
    "lst = [1, 6, 68, 990, 1, 98, 98, 6, 56, 1]\n",
    "print([i for i in range(len(lst)) if lst[i] == 1][-2])"
   ]
  },
  {
   "cell_type": "code",
   "execution_count": 32,
   "id": "d1ff8566",
   "metadata": {},
   "outputs": [
    {
     "name": "stdout",
     "output_type": "stream",
     "text": [
      "[[41 46]\n",
      " [73 82]]\n"
     ]
    }
   ],
   "source": [
    "# 15\n",
    "import numpy as np\n",
    "print(np.array(((2, 3), (4, 5))) @ np.array(((7, 8), (9, 10))))"
   ]
  },
  {
   "cell_type": "code",
   "execution_count": 33,
   "id": "a8e6a1b5",
   "metadata": {},
   "outputs": [
    {
     "name": "stdout",
     "output_type": "stream",
     "text": [
      "[[67  3]\n",
      " [ 4  5]] \n",
      " [[2 3]\n",
      " [4 5]]\n"
     ]
    }
   ],
   "source": [
    "# 16\n",
    "from copy import deepcopy\n",
    "v = np.array(((2, 3), (4, 5)))\n",
    "m = deepcopy(v)\n",
    "v[0][0] = 67\n",
    "print(v, '\\n', m)"
   ]
  },
  {
   "cell_type": "code",
   "execution_count": 34,
   "id": "dca41974",
   "metadata": {},
   "outputs": [
    {
     "name": "stdout",
     "output_type": "stream",
     "text": [
      "абрикос арбуз дыня яблоко\n"
     ]
    }
   ],
   "source": [
    "# 17\n",
    "stroc = 'дыня абрикос яблоко арбуз'\n",
    "print(*sorted(stroc.split()))"
   ]
  },
  {
   "cell_type": "code",
   "execution_count": 35,
   "id": "869c7fe3",
   "metadata": {},
   "outputs": [
    {
     "name": "stdout",
     "output_type": "stream",
     "text": [
      "[1, 'a', 30, 2, 'b', 40], [3, 50, 60]\n"
     ]
    }
   ],
   "source": [
    "# 18\n",
    "lsls = [[1, 2, 3], ['a', 'b'], [30, 40, 50, 60]]\n",
    "maxi = 0\n",
    "mini = 10 ** 10\n",
    "for i in range(len(lsls)):\n",
    "    if len(lsls[i]) > maxi:\n",
    "        maxi = len(lsls[i])\n",
    "\n",
    "    if len(lsls[i]) < mini:\n",
    "        mini = len(lsls[i])\n",
    "        k = i\n",
    "v = []\n",
    "v_1 = []\n",
    "try:\n",
    "    for j in range(maxi):\n",
    "        for i in range(len(lsls)):\n",
    "            v.append(lsls[i][j])\n",
    "        if j + 1 == mini:\n",
    "            raise IndexError\n",
    "\n",
    "except IndexError:\n",
    "    for i in range(len(lsls)):\n",
    "        if len(lsls[i]) != 0:\n",
    "\n",
    "            for j in range(len(lsls[i])):\n",
    "                if j >= mini:\n",
    "                    v_1.append(lsls[i][j])\n",
    "\n",
    "print(v, ', ', v_1, sep='')"
   ]
  },
  {
   "cell_type": "code",
   "execution_count": null,
   "id": "9be06719",
   "metadata": {},
   "outputs": [],
   "source": []
  }
 ],
 "metadata": {
  "kernelspec": {
   "display_name": "Python 3 (ipykernel)",
   "language": "python",
   "name": "python3"
  },
  "language_info": {
   "codemirror_mode": {
    "name": "ipython",
    "version": 3
   },
   "file_extension": ".py",
   "mimetype": "text/x-python",
   "name": "python",
   "nbconvert_exporter": "python",
   "pygments_lexer": "ipython3",
   "version": "3.11.4"
  }
 },
 "nbformat": 4,
 "nbformat_minor": 5
}
