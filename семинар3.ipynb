{
 "cells": [
  {
   "cell_type": "code",
   "execution_count": 1,
   "id": "90c73c8c",
   "metadata": {},
   "outputs": [
    {
     "name": "stdout",
     "output_type": "stream",
     "text": [
      "a = True, b = True, res1 = True, res2 = True\n",
      "a = True, b = False, res1 = True, res2 = True\n",
      "a = False, b = True, res1 = True, res2 = True\n",
      "a = False, b = False, res1 = True, res2 = True\n"
     ]
    }
   ],
   "source": [
    "bollean = [True, False]\n",
    "for a in bollean:\n",
    "    for b in bollean:\n",
    "        print(f\"a = {a}, b = {b}, res1 = {(not a or (not b)) == (not(a and b))}, res2 = {(not a and (not b)) == (not(a or b))}\")\n",
    "        \n",
    "       "
   ]
  },
  {
   "cell_type": "code",
   "execution_count": 2,
   "id": "d047b2e8",
   "metadata": {},
   "outputs": [
    {
     "name": "stdout",
     "output_type": "stream",
     "text": [
      "x = -5: False\n",
      "x = -4: False\n",
      "x = -3: False\n",
      "x = -2: False\n",
      "x = -1: False\n",
      "x = 0: False\n",
      "x = 1: False\n",
      "x = 2: False\n",
      "x = 3: True\n",
      "x = 4: True\n",
      "x = 5: True\n",
      "x = 6: True\n"
     ]
    }
   ],
   "source": [
    "for x in range(-5, 7):\n",
    "    print(f'x = {x}: {x > 2}')# так как x ** 2 + x - 6 == 0 имеет решения при x = 2, x = -3"
   ]
  },
  {
   "cell_type": "code",
   "execution_count": 3,
   "id": "7449a47a",
   "metadata": {},
   "outputs": [
    {
     "data": {
      "text/plain": [
       "False"
      ]
     },
     "execution_count": 3,
     "metadata": {},
     "output_type": "execute_result"
    }
   ],
   "source": [
    "2 <= b < 3 <= a <= c < 5"
   ]
  },
  {
   "cell_type": "code",
   "execution_count": null,
   "id": "c2fc1d16",
   "metadata": {},
   "outputs": [],
   "source": [
    "v = []\n",
    "stroka1 = input('введи строку номер 1')\n",
    "stroka2 = input('введи строку номер 2')\n",
    "if len(stroka1) > len(stroka1):\n",
    "    for i in range(len(stroca1)):\n",
    "        if ord(stroka1[i]) < ord(stroka1[i]):\n",
    "            print(True)\n",
    "            break\n",
    "    print(False)\n",
    "else:\n",
    "    print(False)\n",
    "    "
   ]
  },
  {
   "cell_type": "code",
   "execution_count": null,
   "id": "09948ed7",
   "metadata": {},
   "outputs": [],
   "source": [
    "s2 < s7 < s5 < s6 < s1 < s3 < s4"
   ]
  },
  {
   "cell_type": "code",
   "execution_count": 6,
   "id": "291f7953",
   "metadata": {},
   "outputs": [
    {
     "name": "stdout",
     "output_type": "stream",
     "text": [
      "ВВЕДИТЕ СТРОКУ1\n",
      "random\n"
     ]
    }
   ],
   "source": [
    "stroka = input(\"ВВЕДИТЕ СТРОКУ\")\n",
    "if (stroka.find('???') != -1) and (stroka.find(\"!!!\") != -1):\n",
    "    pass\n",
    "elif stroka.startswith(\"!!!\"):\n",
    "    print('Nota bene', stroka[3:])\n",
    "elif stroka.find(\"!!!\") != -1:\n",
    "    print('exclaim')\n",
    "elif stroka.find('???') != -1:\n",
    "    print('question')\n",
    "else: \n",
    "    print('random')"
   ]
  },
  {
   "cell_type": "code",
   "execution_count": 7,
   "id": "791e4972",
   "metadata": {},
   "outputs": [
    {
     "name": "stdout",
     "output_type": "stream",
     "text": [
      "banana monkey\n"
     ]
    }
   ],
   "source": [
    "# 7\n",
    "x = \"banana monkey\"\n",
    "y = \"orangutan\" \n",
    "friend = x if x.find('banana')!= -1 else y\n",
    "print(friend)"
   ]
  },
  {
   "cell_type": "code",
   "execution_count": null,
   "id": "d5275e4b",
   "metadata": {},
   "outputs": [],
   "source": []
  }
 ],
 "metadata": {
  "kernelspec": {
   "display_name": "Python 3 (ipykernel)",
   "language": "python",
   "name": "python3"
  },
  "language_info": {
   "codemirror_mode": {
    "name": "ipython",
    "version": 3
   },
   "file_extension": ".py",
   "mimetype": "text/x-python",
   "name": "python",
   "nbconvert_exporter": "python",
   "pygments_lexer": "ipython3",
   "version": "3.11.4"
  }
 },
 "nbformat": 4,
 "nbformat_minor": 5
}
