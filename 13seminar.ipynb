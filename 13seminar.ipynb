{
 "cells": [
  {
   "cell_type": "markdown",
   "id": "3bb50781",
   "metadata": {},
   "source": [
    "1) Реализовать простейший динамический массив, поддерживающий добавление элемента в конец массива при помощи метода append(e).\n",
    "Также должны поддерживаться следующие операции:\n",
    "•\tизвлечение элемента по индексу;\n",
    "•\tустанавка нового значения по индексу;\n",
    "•\tполучение текущей длины массива.\n"
   ]
  },
  {
   "cell_type": "code",
   "execution_count": 1,
   "id": "e48f45d6",
   "metadata": {},
   "outputs": [
    {
     "name": "stdout",
     "output_type": "stream",
     "text": [
      "2\n",
      "5\n",
      "3\n"
     ]
    }
   ],
   "source": [
    "class DynamicArray:\n",
    "    def __init__(self):\n",
    "        self.capacity = 1\n",
    "        self.size = 0\n",
    "        self.array = [None] * self.capacity\n",
    "\n",
    "    def append(self, element):\n",
    "        if self.size == self.capacity:\n",
    "            self._resize()\n",
    "        self.array[self.size] = element\n",
    "        self.size += 1\n",
    "\n",
    "    def get(self, index):\n",
    "        if index < 0 or index >= self.size:\n",
    "            print(\"Index out of range\")\n",
    "            return None\n",
    "        return self.array[index]\n",
    "\n",
    "    def set(self, index, value):\n",
    "        if index < 0 or index >= self.size:\n",
    "            print(\"Index out of range\")\n",
    "        else:\n",
    "            self.array[index] = value\n",
    "\n",
    "    def length(self):\n",
    "        return self.size\n",
    "\n",
    "    def _resize(self):\n",
    "        new_capacity = self.capacity * 2\n",
    "        new_array = [None] * new_capacity\n",
    "        for i in range(self.size):\n",
    "            new_array[i] = self.array[i]\n",
    "        self.array = new_array\n",
    "        self.capacity = new_capacity\n",
    "\n",
    "# Пример использования\n",
    "dynamic_array = DynamicArray()\n",
    "dynamic_array.append(1)\n",
    "dynamic_array.append(2)\n",
    "dynamic_array.append(3)\n",
    "\n",
    "print(dynamic_array.get(1))  # Выведет: 2\n",
    "\n",
    "dynamic_array.set(1, 5)\n",
    "print(dynamic_array.get(1))  # Выведет: 5\n",
    "\n",
    "print(dynamic_array.length())  # Выведет: 3\n"
   ]
  },
  {
   "cell_type": "markdown",
   "id": "b45948c3",
   "metadata": {},
   "source": [
    "1.1) Добавить реализацию удаления элемента из любого места массива и поддержку корректного вывода массива при помощи функции print."
   ]
  },
  {
   "cell_type": "code",
   "execution_count": 2,
   "id": "c1cf5cf6",
   "metadata": {},
   "outputs": [
    {
     "name": "stdout",
     "output_type": "stream",
     "text": [
      "[1, 2, 3]\n",
      "[1, 3]\n"
     ]
    }
   ],
   "source": [
    "class DynamicArray:\n",
    "    def __init__(self):\n",
    "        self.capacity = 1\n",
    "        self.size = 0\n",
    "        self.array = [None] * self.capacity\n",
    "\n",
    "    def append(self, element):\n",
    "        if self.size == self.capacity:\n",
    "            self._resize()\n",
    "        self.array[self.size] = element\n",
    "        self.size += 1\n",
    "\n",
    "    def get(self, index):\n",
    "        if index < 0 or index >= self.size:\n",
    "            print(\"Index out of range\")\n",
    "            return None\n",
    "        return self.array[index]\n",
    "\n",
    "    def set(self, index, value):\n",
    "        if index < 0 or index >= self.size:\n",
    "            print(\"Index out of range\")\n",
    "        else:\n",
    "            self.array[index] = value\n",
    "\n",
    "    def delete(self, index):\n",
    "        if index < 0 or index >= self.size:\n",
    "            print(\"Index out of range\")\n",
    "        else:\n",
    "            for i in range(index, self.size - 1):\n",
    "                self.array[i] = self.array[i+1]\n",
    "            self.array[self.size - 1] = None\n",
    "            self.size -= 1\n",
    "\n",
    "    def length(self):\n",
    "        return self.size\n",
    "\n",
    "    def _resize(self):\n",
    "        new_capacity = self.capacity * 2\n",
    "        new_array = [None] * new_capacity\n",
    "        for i in range(self.size):\n",
    "            new_array[i] = self.array[i]\n",
    "        self.array = new_array\n",
    "        self.capacity = new_capacity\n",
    "\n",
    "    def __str__(self):\n",
    "        return str(self.array[:self.size])\n",
    "\n",
    "# Пример использования\n",
    "dynamic_array = DynamicArray()\n",
    "dynamic_array.append(1)\n",
    "dynamic_array.append(2)\n",
    "dynamic_array.append(3)\n",
    "\n",
    "print(dynamic_array)  # Выведет: [1, 2, 3]\n",
    "\n",
    "dynamic_array.delete(1)\n",
    "print(dynamic_array)  # Выведет: [1, 3]\n"
   ]
  },
  {
   "cell_type": "markdown",
   "id": "d605dcc3",
   "metadata": {},
   "source": [
    "2) Реализовать генератор, который возвращает значение поочередно извлекаемое из конца двух очередей (в качестве очереди используется deque из collections). Если очередь из которой извлекается элемент пуста - генератор заканчивает работу."
   ]
  },
  {
   "cell_type": "code",
   "execution_count": 3,
   "id": "ceb129d6",
   "metadata": {},
   "outputs": [
    {
     "name": "stdout",
     "output_type": "stream",
     "text": [
      "5\n",
      "c\n",
      "4\n",
      "b\n",
      "3\n",
      "a\n",
      "2\n",
      "1\n"
     ]
    }
   ],
   "source": [
    "from collections import deque\n",
    "\n",
    "def extract_from_queues(queue1, queue2):\n",
    "    while queue1 or queue2:  # Пока хотя бы одна из очередей не пуста\n",
    "        if queue1:\n",
    "            yield queue1.pop()\n",
    "        if queue2:\n",
    "            yield queue2.pop()\n",
    "\n",
    "# Пример использования\n",
    "queue1 = deque([1, 2, 3, 4, 5])\n",
    "queue2 = deque(['a', 'b', 'c'])\n",
    "\n",
    "for value in extract_from_queues(queue1, queue2):\n",
    "    print(value)\n"
   ]
  },
  {
   "cell_type": "markdown",
   "id": "20e16b0f",
   "metadata": {},
   "source": [
    "3) Реализовать классы с медодом action():"
   ]
  },
  {
   "cell_type": "code",
   "execution_count": 5,
   "id": "ade5412a",
   "metadata": {},
   "outputs": [
    {
     "ename": "SyntaxError",
     "evalue": "invalid syntax (2158236624.py, line 19)",
     "output_type": "error",
     "traceback": [
      "\u001b[1;36m  Cell \u001b[1;32mIn[5], line 19\u001b[1;36m\u001b[0m\n\u001b[1;33m    |\u001b[0m\n\u001b[1;37m    ^\u001b[0m\n\u001b[1;31mSyntaxError\u001b[0m\u001b[1;31m:\u001b[0m invalid syntax\n"
     ]
    }
   ],
   "source": [
    "class ActionClass:\n",
    "    def action(self):\n",
    "        pass\n",
    "\n",
    "class Subclass1(ActionClass):\n",
    "    def action(self):\n",
    "        print(\"Action from Subclass1\")\n",
    "\n",
    "class Subclass2(ActionClass):\n",
    "    def action(self):\n",
    "        print(\"Action from Subclass2\")\n",
    "\n",
    "# Пример использования\n",
    "obj1 = Subclass1()\n",
    "obj1.action()  # Выведет: Action from Subclass1\n",
    "\n",
    "obj2 = Subclass2()\n",
    "obj2.action()  # Выведет: Action from Subclass2\n",
    "|"
   ]
  },
  {
   "cell_type": "markdown",
   "id": "0a27ba8b",
   "metadata": {},
   "source": [
    "а) Класс Pump - в методе action() извлекает очередное значение из генератора и помещает значение в очередь (очередь передается в конструктор)."
   ]
  },
  {
   "cell_type": "code",
   "execution_count": 6,
   "id": "e4fc7ac6",
   "metadata": {},
   "outputs": [
    {
     "name": "stdout",
     "output_type": "stream",
     "text": [
      "deque([1])\n",
      "deque([1, 'a'])\n"
     ]
    }
   ],
   "source": [
    "from collections import deque\n",
    "\n",
    "class Pump:\n",
    "    def __init__(self, queue, generator):\n",
    "        self.queue = queue\n",
    "        self.generator = generator\n",
    "\n",
    "    def action(self):\n",
    "        try:\n",
    "            value = next(self.generator)  # Извлекаем очередное значение из генератора\n",
    "        except StopIteration:\n",
    "            return  # Если генератор закончился, выходим из метода\n",
    "        self.queue.append(value)  # Помещаем значение в переданную очередь\n",
    "\n",
    "# Пример использования\n",
    "def simple_generator():\n",
    "    yield 1\n",
    "    yield 'a'\n",
    "    yield 2\n",
    "    yield 'b'\n",
    "\n",
    "queue = deque()\n",
    "generator = simple_generator()\n",
    "pump = Pump(queue, generator)\n",
    "\n",
    "pump.action()  # Извлекает очередное значение из генератора и помещает его в очередь\n",
    "print(queue)  # Выведет: deque([1])\n",
    "\n",
    "pump.action()  # Извлекает следующее значение из генератора и помещает его в очередь\n",
    "print(queue)  # Выведет: deque([1, 'a'])\n"
   ]
  },
  {
   "cell_type": "markdown",
   "id": "65a02d5e",
   "metadata": {},
   "source": [
    "b) Класс MultiAction - при вызове метода action() n раз вызвает метод action() класса, переданного в конструкторе. Число n также определяется в конструкторе"
   ]
  },
  {
   "cell_type": "code",
   "execution_count": 7,
   "id": "ef123a8f",
   "metadata": {},
   "outputs": [
    {
     "name": "stdout",
     "output_type": "stream",
     "text": [
      "Action from MyClass\n",
      "Action from MyClass\n",
      "Action from MyClass\n"
     ]
    }
   ],
   "source": [
    "class MultiAction:\n",
    "    def __init__(self, other_class, n):\n",
    "        self.other_class = other_class\n",
    "        self.n = n\n",
    "\n",
    "    def action(self):\n",
    "        for _ in range(self.n):\n",
    "            self.other_class.action()\n",
    "\n",
    "# Пример использования\n",
    "class MyClass:\n",
    "    def action(self):\n",
    "        print(\"Action from MyClass\")\n",
    "\n",
    "multi_action = MultiAction(MyClass(), 3)\n",
    "\n",
    "multi_action.action()  # Вызывает метод action() MyClass три раза\n",
    "# Выведет:\n",
    "# Action from MyClass\n",
    "# Action from MyClass\n",
    "# Action from MyClass\n"
   ]
  },
  {
   "cell_type": "markdown",
   "id": "df241b8f",
   "metadata": {},
   "source": [
    "c) Класс MultiPump - в методе action() извлекает очередное значение из генератора и помещает значение в одну из очередей (очереди передается в конструкторе); очереди , в которые помещаются очередные значения, меняются по порядку."
   ]
  },
  {
   "cell_type": "code",
   "execution_count": 8,
   "id": "8f8a1de7",
   "metadata": {},
   "outputs": [
    {
     "name": "stdout",
     "output_type": "stream",
     "text": [
      "deque(['a'])\n",
      "deque(['b'])\n"
     ]
    }
   ],
   "source": [
    "from collections import deque\n",
    "\n",
    "class MultiPump:\n",
    "    def __init__(self, queues, generator):\n",
    "        self.queues = queues\n",
    "        self.generator = generator\n",
    "        self.current_queue_index = 0\n",
    "\n",
    "    def action(self):\n",
    "        try:\n",
    "            value = next(self.generator)  # Извлекаем очередное значение из генератора\n",
    "        except StopIteration:\n",
    "            return  # Если генератор закончился, выходим из метода\n",
    "        current_queue = self.queues[self.current_queue_index]\n",
    "        current_queue.append(value)  # Помещаем значение в текущую очередь\n",
    "        self.current_queue_index = (self.current_queue_index + 1) % len(self.queues)  # Переходим к следующей очереди\n",
    "\n",
    "# Пример использования\n",
    "def simple_generator():\n",
    "    yield 'a'\n",
    "    yield 'b'\n",
    "    yield 'c'\n",
    "    yield 'd'\n",
    "\n",
    "queue1 = deque()\n",
    "queue2 = deque()\n",
    "queues = [queue1, queue2]\n",
    "generator = simple_generator()\n",
    "multi_pump = MultiPump(queues, generator)\n",
    "\n",
    "multi_pump.action()  # Извлекает очередное значение из генератора и помещает его поочередно в две очереди\n",
    "multi_pump.action()  # Продолжает помещать значения в обе очереди\n",
    "\n",
    "print(queue1)  # Выведет: deque(['a', 'c'])\n",
    "print(queue2)  # Выведет: deque(['b', 'd'])\n"
   ]
  },
  {
   "cell_type": "markdown",
   "id": "81477f37",
   "metadata": {},
   "source": [
    "4) При помощи GenFromQ, Pump реализовать систему опработки сообщений. Сообщения создаются генератором сообщений возвращающим случайным образорм одно из сообщений. Сообщения из трех генераторов закачиваются в три очереди при помощи классов Pump, далее при помощи GenFromQ и Pump объединяются в одну очередь и выводятся на экран (можно реализовать при помощи класса с action и вызываемого при помощи MultiPump).\n",
    "\n"
   ]
  },
  {
   "cell_type": "code",
   "execution_count": 9,
   "id": "9d6d45a9",
   "metadata": {},
   "outputs": [
    {
     "ename": "TypeError",
     "evalue": "'GenFromQ' object is not an iterator",
     "output_type": "error",
     "traceback": [
      "\u001b[1;31m---------------------------------------------------------------------------\u001b[0m",
      "\u001b[1;31mTypeError\u001b[0m                                 Traceback (most recent call last)",
      "Cell \u001b[1;32mIn[9], line 47\u001b[0m\n\u001b[0;32m     44\u001b[0m gen_from_q \u001b[38;5;241m=\u001b[39m GenFromQ(message_queues)\n\u001b[0;32m     45\u001b[0m multi_pump \u001b[38;5;241m=\u001b[39m MultiPump([message_queues[\u001b[38;5;241m0\u001b[39m], message_queues[\u001b[38;5;241m1\u001b[39m], message_queues[\u001b[38;5;241m2\u001b[39m]], gen_from_q)\n\u001b[1;32m---> 47\u001b[0m \u001b[43mmulti_pump\u001b[49m\u001b[38;5;241;43m.\u001b[39;49m\u001b[43maction\u001b[49m\u001b[43m(\u001b[49m\u001b[43m)\u001b[49m\n",
      "Cell \u001b[1;32mIn[8], line 11\u001b[0m, in \u001b[0;36mMultiPump.action\u001b[1;34m(self)\u001b[0m\n\u001b[0;32m      9\u001b[0m \u001b[38;5;28;01mdef\u001b[39;00m \u001b[38;5;21maction\u001b[39m(\u001b[38;5;28mself\u001b[39m):\n\u001b[0;32m     10\u001b[0m     \u001b[38;5;28;01mtry\u001b[39;00m:\n\u001b[1;32m---> 11\u001b[0m         value \u001b[38;5;241m=\u001b[39m \u001b[38;5;28;43mnext\u001b[39;49m\u001b[43m(\u001b[49m\u001b[38;5;28;43mself\u001b[39;49m\u001b[38;5;241;43m.\u001b[39;49m\u001b[43mgenerator\u001b[49m\u001b[43m)\u001b[49m  \u001b[38;5;66;03m# Извлекаем очередное значение из генератора\u001b[39;00m\n\u001b[0;32m     12\u001b[0m     \u001b[38;5;28;01mexcept\u001b[39;00m \u001b[38;5;167;01mStopIteration\u001b[39;00m:\n\u001b[0;32m     13\u001b[0m         \u001b[38;5;28;01mreturn\u001b[39;00m  \u001b[38;5;66;03m# Если генератор закончился, выходим из метода\u001b[39;00m\n",
      "\u001b[1;31mTypeError\u001b[0m: 'GenFromQ' object is not an iterator"
     ]
    }
   ],
   "source": [
    "import random\n",
    "from collections import deque\n",
    "\n",
    "# Генератор случайных сообщений\n",
    "def message_generator():\n",
    "    messages = [\"Hello\", \"Goodbye\", \"Welcome\", \"Thank you\", \"Sorry\"]\n",
    "    while True:\n",
    "        yield random.choice(messages)\n",
    "\n",
    "# Класс Pump для помещения сообщений из генератора в очередь\n",
    "class Pump:\n",
    "    def __init__(self, queue, generator):\n",
    "        self.queue = queue\n",
    "        self.generator = generator\n",
    "\n",
    "    def action(self):\n",
    "        try:\n",
    "            message = next(self.generator)\n",
    "            self.queue.append(message)\n",
    "        except StopIteration:\n",
    "            return\n",
    "\n",
    "# Класс GenFromQ для объединения сообщений из нескольких очередей в одну\n",
    "class GenFromQ:\n",
    "    def __init__(self, queues):\n",
    "        self.queues = queues\n",
    "\n",
    "    def action(self):\n",
    "        for queue in self.queues:\n",
    "            while queue:\n",
    "                message = queue.popleft()\n",
    "                print(message)\n",
    "\n",
    "# Создание генераторов сообщений и очередей\n",
    "message_queues = [deque() for _ in range(3)]\n",
    "generators = [message_generator() for _ in range(3)]\n",
    "pumps = [Pump(message_queues[i], generators[i]) for i in range(3)]\n",
    "\n",
    "# Помещение сообщений в очереди\n",
    "for pump in pumps:\n",
    "    pump.action()\n",
    "\n",
    "# Объединение сообщений из трех очередей и вывод на экран\n",
    "gen_from_q = GenFromQ(message_queues)\n",
    "multi_pump = MultiPump([message_queues[0], message_queues[1], message_queues[2]], gen_from_q)\n",
    "\n",
    "multi_pump.action()  # Выводит сообщения на экран\n"
   ]
  },
  {
   "cell_type": "code",
   "execution_count": null,
   "id": "6ecae7e1",
   "metadata": {},
   "outputs": [],
   "source": []
  }
 ],
 "metadata": {
  "kernelspec": {
   "display_name": "Python 3 (ipykernel)",
   "language": "python",
   "name": "python3"
  },
  "language_info": {
   "codemirror_mode": {
    "name": "ipython",
    "version": 3
   },
   "file_extension": ".py",
   "mimetype": "text/x-python",
   "name": "python",
   "nbconvert_exporter": "python",
   "pygments_lexer": "ipython3",
   "version": "3.10.9"
  }
 },
 "nbformat": 4,
 "nbformat_minor": 5
}
