{
 "cells": [
  {
   "cell_type": "markdown",
   "id": "c8ee3dd9",
   "metadata": {},
   "source": [
    "1.С помощью цикла for сравнить две произвольные строки и вывести строку, состоящую из общих символов исходных строк.\n"
   ]
  },
  {
   "cell_type": "code",
   "execution_count": 1,
   "id": "4775910e",
   "metadata": {},
   "outputs": [
    {
     "name": "stdout",
     "output_type": "stream",
     "text": [
      "lo\n"
     ]
    }
   ],
   "source": [
    "\n",
    "def common_chars(string1, string2):\n",
    "    common = \"\"\n",
    "    for char in string1:\n",
    "        if char in string2 and char not in common:\n",
    "            common += char\n",
    "    return common\n",
    "\n",
    "string1 = \"hello\"\n",
    "string2 = \"world\"\n",
    "result = common_chars(string1, string2)\n",
    "print(result)\n"
   ]
  },
  {
   "cell_type": "markdown",
   "id": "d4ee38a6",
   "metadata": {},
   "source": [
    "2.С помощью цикла while рассчитать двойной факториал для произвольного числа. Двойной факториал n!! числа n рассчитывается как произведение всех чисел, меньших исходного на числа, кратные двум (но это не точно, надо с шагом 2) (вплоть до 1 или 2). Например: 7!! = 7 * 5 * 3 * 1 = 105\n"
   ]
  },
  {
   "cell_type": "code",
   "execution_count": 4,
   "id": "826d7fac",
   "metadata": {},
   "outputs": [
    {
     "name": "stdout",
     "output_type": "stream",
     "text": [
      "945\n"
     ]
    }
   ],
   "source": [
    "\n",
    "def double_factorial(n):\n",
    "    r = 1\n",
    "    while n > 1:\n",
    "        r *= n\n",
    "        n -= 2\n",
    "    return r\n",
    "\n",
    "n = 9\n",
    "r = double_factorial(n)\n",
    "print(r)\n"
   ]
  },
  {
   "cell_type": "markdown",
   "id": "02520e7b",
   "metadata": {},
   "source": [
    "3) Решить предыдущую задачу с помощью цикла for"
   ]
  },
  {
   "cell_type": "code",
   "execution_count": 6,
   "id": "6361a2a7",
   "metadata": {},
   "outputs": [
    {
     "name": "stdout",
     "output_type": "stream",
     "text": [
      "105\n"
     ]
    }
   ],
   "source": [
    "\n",
    "def double_factorial(n):\n",
    "    result = 1\n",
    "    for i in range(n, 0, -2):\n",
    "        result *= i\n",
    "    return result\n",
    "\n",
    "n = 7\n",
    "result = double_factorial(n)\n",
    "print(result)\n"
   ]
  },
  {
   "cell_type": "markdown",
   "id": "51ec1211",
   "metadata": {},
   "source": [
    "4.Вывести все простые числа в произвольном интервале [a, b], используя вложенные for и конструкцию for-else."
   ]
  },
  {
   "cell_type": "code",
   "execution_count": 10,
   "id": "d9b62328",
   "metadata": {},
   "outputs": [
    {
     "name": "stdout",
     "output_type": "stream",
     "text": [
      "r0\n",
      "g10\n",
      "0\n",
      "1\n",
      "2\n",
      "3\n",
      "5\n",
      "7\n"
     ]
    }
   ],
   "source": [
    "a = int(input('r'))\n",
    "b = int(input('g'))\n",
    "for num in range (a, b+1):\n",
    "    if i>1:\n",
    "        for i in range(2,num):\n",
    "            if num % i == 0:\n",
    "                break\n",
    "        else:\n",
    "            print(num)\n",
    "        \n",
    "    \n",
    "    "
   ]
  },
  {
   "cell_type": "markdown",
   "id": "64c225ca",
   "metadata": {},
   "source": [
    "5) Реализовать проверку на ввод вводимого пользователем значения: предлагать ввод до тех пор, пока не будет введена непустая строка. Если введено STOP, выводить сообщение \"Program interrupted by user\". Если введенная строка в лексиграфическом порядке стоит перед строчными латинскими символами, выводить предупреждение \"Too early in the dictionary. Try again!\" и предлагать ввод снова. Иначе выводить отформатированную исходную строку с заполнителем \"_\" и шириной 30 символов с выравниванием посередине."
   ]
  },
  {
   "cell_type": "code",
   "execution_count": 13,
   "id": "a7cf4ee9",
   "metadata": {},
   "outputs": [
    {
     "ename": "KeyboardInterrupt",
     "evalue": "Interrupted by user",
     "output_type": "error",
     "traceback": [
      "\u001b[1;31m---------------------------------------------------------------------------\u001b[0m",
      "\u001b[1;31mKeyboardInterrupt\u001b[0m                         Traceback (most recent call last)",
      "Cell \u001b[1;32mIn[13], line 3\u001b[0m\n\u001b[0;32m      1\u001b[0m pl \u001b[38;5;241m=\u001b[39m \u001b[38;5;28;01mTrue\u001b[39;00m\n\u001b[0;32m      2\u001b[0m \u001b[38;5;28;01mwhile\u001b[39;00m pl:\n\u001b[1;32m----> 3\u001b[0m     s \u001b[38;5;241m=\u001b[39m \u001b[38;5;28minput\u001b[39m()\n\u001b[0;32m      4\u001b[0m     \u001b[38;5;28;01mif\u001b[39;00m \u001b[38;5;28mlen\u001b[39m() \u001b[38;5;241m!=\u001b[39m\u001b[38;5;241m0\u001b[39m:\n\u001b[0;32m      5\u001b[0m         pl \u001b[38;5;241m=\u001b[39m \u001b[38;5;28;01mFalse\u001b[39;00m\n",
      "File \u001b[1;32m~\\anaconda3\\Lib\\site-packages\\ipykernel\\kernelbase.py:1175\u001b[0m, in \u001b[0;36mKernel.raw_input\u001b[1;34m(self, prompt)\u001b[0m\n\u001b[0;32m   1171\u001b[0m \u001b[38;5;28;01mif\u001b[39;00m \u001b[38;5;129;01mnot\u001b[39;00m \u001b[38;5;28mself\u001b[39m\u001b[38;5;241m.\u001b[39m_allow_stdin:\n\u001b[0;32m   1172\u001b[0m     \u001b[38;5;28;01mraise\u001b[39;00m StdinNotImplementedError(\n\u001b[0;32m   1173\u001b[0m         \u001b[38;5;124m\"\u001b[39m\u001b[38;5;124mraw_input was called, but this frontend does not support input requests.\u001b[39m\u001b[38;5;124m\"\u001b[39m\n\u001b[0;32m   1174\u001b[0m     )\n\u001b[1;32m-> 1175\u001b[0m \u001b[38;5;28;01mreturn\u001b[39;00m \u001b[38;5;28mself\u001b[39m\u001b[38;5;241m.\u001b[39m_input_request(\n\u001b[0;32m   1176\u001b[0m     \u001b[38;5;28mstr\u001b[39m(prompt),\n\u001b[0;32m   1177\u001b[0m     \u001b[38;5;28mself\u001b[39m\u001b[38;5;241m.\u001b[39m_parent_ident[\u001b[38;5;124m\"\u001b[39m\u001b[38;5;124mshell\u001b[39m\u001b[38;5;124m\"\u001b[39m],\n\u001b[0;32m   1178\u001b[0m     \u001b[38;5;28mself\u001b[39m\u001b[38;5;241m.\u001b[39mget_parent(\u001b[38;5;124m\"\u001b[39m\u001b[38;5;124mshell\u001b[39m\u001b[38;5;124m\"\u001b[39m),\n\u001b[0;32m   1179\u001b[0m     password\u001b[38;5;241m=\u001b[39m\u001b[38;5;28;01mFalse\u001b[39;00m,\n\u001b[0;32m   1180\u001b[0m )\n",
      "File \u001b[1;32m~\\anaconda3\\Lib\\site-packages\\ipykernel\\kernelbase.py:1217\u001b[0m, in \u001b[0;36mKernel._input_request\u001b[1;34m(self, prompt, ident, parent, password)\u001b[0m\n\u001b[0;32m   1214\u001b[0m             \u001b[38;5;28;01mbreak\u001b[39;00m\n\u001b[0;32m   1215\u001b[0m \u001b[38;5;28;01mexcept\u001b[39;00m \u001b[38;5;167;01mKeyboardInterrupt\u001b[39;00m:\n\u001b[0;32m   1216\u001b[0m     \u001b[38;5;66;03m# re-raise KeyboardInterrupt, to truncate traceback\u001b[39;00m\n\u001b[1;32m-> 1217\u001b[0m     \u001b[38;5;28;01mraise\u001b[39;00m \u001b[38;5;167;01mKeyboardInterrupt\u001b[39;00m(\u001b[38;5;124m\"\u001b[39m\u001b[38;5;124mInterrupted by user\u001b[39m\u001b[38;5;124m\"\u001b[39m) \u001b[38;5;28;01mfrom\u001b[39;00m \u001b[38;5;28;01mNone\u001b[39;00m\n\u001b[0;32m   1218\u001b[0m \u001b[38;5;28;01mexcept\u001b[39;00m \u001b[38;5;167;01mException\u001b[39;00m:\n\u001b[0;32m   1219\u001b[0m     \u001b[38;5;28mself\u001b[39m\u001b[38;5;241m.\u001b[39mlog\u001b[38;5;241m.\u001b[39mwarning(\u001b[38;5;124m\"\u001b[39m\u001b[38;5;124mInvalid Message:\u001b[39m\u001b[38;5;124m\"\u001b[39m, exc_info\u001b[38;5;241m=\u001b[39m\u001b[38;5;28;01mTrue\u001b[39;00m)\n",
      "\u001b[1;31mKeyboardInterrupt\u001b[0m: Interrupted by user"
     ]
    }
   ],
   "source": [
    "pl = True\n",
    "while pl:\n",
    "    s = input()\n",
    "    if len() !=0:\n",
    "        pl = False\n",
    "        if s == 'STOP':\n",
    "            print('Program interruped by user')\n",
    "        elif s[0]<'a':\n",
    "            print('Too early in the dictionary, Try again')\n",
    "            pl = True\n",
    "        else:\n",
    "            s = s.center(30 + len(s), '_')\n",
    "            print(s)"
   ]
  },
  {
   "cell_type": "markdown",
   "id": "8f2a35df",
   "metadata": {},
   "source": [
    "6) Для произвольной строки вывести те символы, номера которых в строке (не индексы!) делят длину строки без остатка. Для строки \"Hello world!\" должно выводиться \"Hell !\"."
   ]
  },
  {
   "cell_type": "code",
   "execution_count": 15,
   "id": "e37ecec9",
   "metadata": {},
   "outputs": [
    {
     "name": "stdout",
     "output_type": "stream",
     "text": [
      "hello\n",
      "ho\n"
     ]
    }
   ],
   "source": [
    "x = input()\n",
    "a = \"\"\n",
    "for i, el in enumerate(x):\n",
    "    if len(x) % (i+1) == 0:\n",
    "        a += el\n",
    "         \n",
    "print(a)"
   ]
  },
  {
   "cell_type": "markdown",
   "id": "f481ed09",
   "metadata": {},
   "source": [
    "7) Даны две произвольные строки. Для всех символов первой строки, которые встречаются во второй строке (без учета регистра), вывести строку: \"<номер_символа_в_первой_строке> встречается в строке поиска: <второе_слово>\", причем второе слово выводить в нижнем регистре с найденным символом в верхнем регистре. Например, для исходной строки \"Hello world!\" и строки поиска 'HERD' третья строка в выводе будет содержать текст:\n",
    "\"9 символ встречается в строке поиска: heRd\".\n",
    "\n"
   ]
  },
  {
   "cell_type": "code",
   "execution_count": 17,
   "id": "9409195f",
   "metadata": {},
   "outputs": [
    {
     "name": "stdout",
     "output_type": "stream",
     "text": [
      "hello world\n",
      "herd\n",
      "1 встречается в строке поиска:Herd\n",
      "2 встречается в строке поиска:hErd\n",
      "9 встречается в строке поиска:heRd\n",
      "11 встречается в строке поиска:herD\n"
     ]
    }
   ],
   "source": [
    "x = input().lower()\n",
    "y = input().lower()\n",
    "k=0\n",
    "for i in x:\n",
    "    k+=1\n",
    "    for j in y:\n",
    "        if i == j:\n",
    "            if i == j:\n",
    "                print(f'{k} встречается в строке поиска:{y.replace(j,j.upper(),1)}')"
   ]
  },
  {
   "cell_type": "markdown",
   "id": "a04099e1",
   "metadata": {},
   "source": [
    "5.1) Дана строка 'aaa--bbb==ccc__ddd'. Написать регулярное выражение для разбивки строки на список ['aaa','bbb','ccc','ddd']."
   ]
  },
  {
   "cell_type": "code",
   "execution_count": 18,
   "id": "a3c75c76",
   "metadata": {},
   "outputs": [
    {
     "name": "stdout",
     "output_type": "stream",
     "text": [
      "['aaa', 'bbb', 'ccc', 'ddd']\n"
     ]
    }
   ],
   "source": [
    "import re\n",
    "a = 'aaa--bbb==ccc__ddd'\n",
    "d = re.split('--|==|__',a)\n",
    "print(d)"
   ]
  },
  {
   "cell_type": "markdown",
   "id": "69ec82cc",
   "metadata": {},
   "source": [
    "5.2) Получить первое слово из произвольной строки. Например, для 'Yesterday, All my troubles seemed so far away' должно возвращаться 'Yesterday'"
   ]
  },
  {
   "cell_type": "code",
   "execution_count": 29,
   "id": "4554db56",
   "metadata": {},
   "outputs": [
    {
     "name": "stdout",
     "output_type": "stream",
     "text": [
      "введите строку:'Yesterday, All my troubles seemed so far away' должно возвращаться 'Yesterday'\n",
      "'Yesterday,\n"
     ]
    }
   ],
   "source": [
    "a = input('введите строку:')\n",
    "b = a.split()[0]\n",
    "print(b)"
   ]
  },
  {
   "cell_type": "markdown",
   "id": "25d1b653",
   "metadata": {},
   "source": [
    "5.3) Получить последнее слово из произвольной строки"
   ]
  },
  {
   "cell_type": "code",
   "execution_count": 30,
   "id": "96621fa2",
   "metadata": {},
   "outputs": [
    {
     "name": "stdout",
     "output_type": "stream",
     "text": [
      "введите строку:'Yesterday, All my troubles seemed so far away' должно возвращаться 'Yesterday'\n",
      "'Yesterday'\n"
     ]
    }
   ],
   "source": [
    "a = input('введите строку:')\n",
    "b = a.split()[-1]\n",
    "print(b)"
   ]
  },
  {
   "cell_type": "markdown",
   "id": "b7571c90",
   "metadata": {},
   "source": [
    "5.4) В следующем отрывке найти все слова, которые начинаются на гласную букву:"
   ]
  },
  {
   "cell_type": "code",
   "execution_count": null,
   "id": "beb4d7a1",
   "metadata": {},
   "outputs": [],
   "source": [
    "a = input('введите строку')\n",
    "b = a.split()[a]\n",
    "print(b)\n"
   ]
  },
  {
   "cell_type": "code",
   "execution_count": null,
   "id": "3a32cb78",
   "metadata": {},
   "outputs": [],
   "source": []
  }
 ],
 "metadata": {
  "kernelspec": {
   "display_name": "Python 3 (ipykernel)",
   "language": "python",
   "name": "python3"
  },
  "language_info": {
   "codemirror_mode": {
    "name": "ipython",
    "version": 3
   },
   "file_extension": ".py",
   "mimetype": "text/x-python",
   "name": "python",
   "nbconvert_exporter": "python",
   "pygments_lexer": "ipython3",
   "version": "3.11.4"
  }
 },
 "nbformat": 4,
 "nbformat_minor": 5
}
